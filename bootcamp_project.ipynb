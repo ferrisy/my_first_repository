{
 "cells": [
  {
   "cell_type": "code",
   "execution_count": null,
   "metadata": {},
   "outputs": [],
   "source": [
    "import pandas as pd\n",
    "df = pd.read_csv(\"total, opioid, sales table.csv\")\n",
    "df = pd.DataFrame(df)\n",
    "#setting up main dataframe\n",
    "df.columns = df.iloc[0]\n",
    "df = df.iloc[1:]\n",
    "df = df.drop(df.columns[[6]], axis=1)\n",
    "df = df.set_index([\"Location\"])\n",
    "df = df.drop(df.index[0], axis=0)\n",
    "df[\"Total Deaths\"] = df[\"Total Deaths\"].str.replace(',', '')\n",
    "df[[\"Total Deaths\"]] = df[[\"Total Deaths\"]].apply(pd.to_numeric)\n",
    "df = df.rename(columns={\"Total Deaths\":\"Total Deaths Per 100,00\"})\n",
    "df"
   ]
  },
  {
   "cell_type": "code",
   "execution_count": null,
   "metadata": {},
   "outputs": [],
   "source": [
    "#Opium Overdose Death Distribution in Top 10 U.S. States\n",
    "df[\"Total Deaths Per 100,00\"].sort_values(ascending=False).head(10).plot.pie(radius=1,autopct='%1.0f%%',labeldistance=1.2, title = \"Opium Overdose Death Distribution in Top 10 U.S. States\").axis('off')\n",
    "print(df[\"Total Deaths Per 100,00\"].sort_values(ascending=False).head(10))\n"
   ]
  },
  {
   "cell_type": "code",
   "execution_count": null,
   "metadata": {},
   "outputs": [],
   "source": [
    "#Creating Prescription Opioid Overdose Deaths Per 100,000 (Age Adjusted) vs 2018 Population Total Ratio\n",
    "df[[\"Prescription Opioid Overdose Deaths Per 100,000 (Age Adjusted)\"]] = df[[\"Prescription Opioid Overdose Deaths Per 100,000 (Age Adjusted)\"]].apply(pd.to_numeric)\n",
    "df[[\"2018 Population\"]] = df[[\"2018 Population\"]].apply(pd.to_numeric)\n",
    "df[\"Prescription Opioid Deaths/Pop. Ratio\"] = (df[\"Prescription Opioid Overdose Deaths Per 100,000 (Age Adjusted)\"]*100)/df[\"2018 Population\"]\n",
    "#Creating Prescription Opioid Overdose Deaths Per 100,000 (Age Adjusted) vs Sales(2018)\n",
    "df[[\"Sales(2018)\"]] = df[[\"Sales(2018)\"]].apply(pd.to_numeric)\n",
    "df[\"Marijuana Sales/Pop. Ratio\"] = df[\"Sales(2018)\"]/df[\"2018 Population\"]\n",
    "df[\"Prescription Opioid Deaths (2018)\"] = (df[\"2018 Population\"]/100000)*df[\"Prescription Opioid Overdose Deaths Per 100,000 (Age Adjusted)\"]\n",
    "df"
   ]
  },
  {
   "cell_type": "code",
   "execution_count": null,
   "metadata": {},
   "outputs": [],
   "source": [
    "#Creating a Separate Database for Legal States\n",
    "dflegal = df[df[\"Sales(2018)\"] != 0]\n",
    "dflegal"
   ]
  },
  {
   "cell_type": "code",
   "execution_count": null,
   "metadata": {},
   "outputs": [],
   "source": [
    "#Creating a Separate Database for Illegal States\n",
    "dfillegal = df[df[\"Sales(2018)\"] == 0]\n",
    "dfillegal"
   ]
  },
  {
   "cell_type": "code",
   "execution_count": null,
   "metadata": {},
   "outputs": [],
   "source": [
    "import matplotlib.pylab as plt\n",
    "import numpy as np\n",
    "ax1 = dflegal.plot(kind='scatter', x=\"2018 Population\", y=\"Prescription Opioid Deaths (2018)\", color='g', label=\"Legal States\")    \n",
    "ax2 = dfillegal.plot(kind='scatter', x=\"2018 Population\", y=\"Prescription Opioid Deaths (2018)\", color='r', label=\"Illegal States\", ax=ax1)    \n",
    "ax1.set_ylim(0,200000)\n",
    "print(ax1 == ax2)"
   ]
  },
  {
   "cell_type": "code",
   "execution_count": null,
   "metadata": {},
   "outputs": [],
   "source": [
    "#Sorting the Ratio From Descending Order to Graph in Line Graph\n",
    "dflegal_sorted = dflegal.sort_values(by=[\"Prescription Opioid Deaths/Pop. Ratio\"],ascending=False)\n",
    "plt.plot(dflegal_sorted[\"Prescription Opioid Deaths/Pop. Ratio\"], dflegal_sorted[\"Marijuana Sales/Pop. Ratio\"])\n",
    "plt.plt.xlim(0.0055,0.035)\n",
    "plt.plt.xlabel(\"Prescription Opioid Deaths/Pop. Ratio\")\n",
    "plt.plt.ylabel(\"Marijuana Sales/Pop. Ratio\")"
   ]
  },
  {
   "cell_type": "code",
   "execution_count": null,
   "metadata": {},
   "outputs": [],
   "source": [
    "df[\"Prescription Opioid Deaths/Pop. Ratio\"].mean()"
   ]
  },
  {
   "cell_type": "code",
   "execution_count": null,
   "metadata": {},
   "outputs": [],
   "source": [
    "ax3 = dflegal.plot(kind='scatter', x=\"2018 Population\", y=\"Sales(2018)\", color='b') "
   ]
  },
  {
   "cell_type": "code",
   "execution_count": null,
   "metadata": {},
   "outputs": [],
   "source": [
    "#setting up dataframe\n",
    "import pandas as pd\n",
    "df2 = pd.read_csv(\"Opioid pre and post legaliz.csv\")\n",
    "df2 = pd.DataFrame(df2)\n",
    "df2.columns = df2.iloc[0]\n",
    "df2 = df2.iloc[1:11]\n",
    "df2 = df2.set_index([\"State\"])\n",
    "df2[[\"Legal Marijuana Sales (2018)\"]] = df2[[\"Legal Marijuana Sales (2018)\"]].apply(pd.to_numeric)\n",
    "df2[[\"Prescriptions(Same)\"]] = df2[[\"Prescriptions(Same)\"]].apply(pd.to_numeric)\n",
    "df2[[\"Prescriptions(Post)\"]] = df2[[\"Prescriptions(Post)\"]].apply(pd.to_numeric)\n",
    "df2[\"Marijuana to Opium Prescription Sales Pre-Legalization\"] = df2[\"Legal Marijuana Sales (2018)\"]/df2[\"Prescriptions(Same)\"]\n",
    "df2[\"Marijuana to Opium Prescription Sales Post-Legalization\"] = df2[\"Legal Marijuana Sales (2018)\"]/df2[\"Prescriptions(Post)\"]\n",
    "df2 = df2.rename(columns={\"Prescriptions(Same)\":\"Prescriptions(Pre)\"})\n",
    "df2"
   ]
  },
  {
   "cell_type": "code",
   "execution_count": null,
   "metadata": {},
   "outputs": [],
   "source": [
    "df2[['Marijuana to Opium Prescription Sales Pre-Legalization','Marijuana to Opium Prescription Sales Post-Legalization']].plot(kind='bar', stacked=False)"
   ]
  },
  {
   "cell_type": "code",
   "execution_count": null,
   "metadata": {},
   "outputs": [],
   "source": [
    "df3 = pd.read_csv(\"marijuana sales.csv\", error_bad_lines=False)\n",
    "df3 = pd.DataFrame(df3)\n",
    "df3 = df3.set_index([\"Location\"])\n",
    "df3 = df3.iloc[1:51]\n",
    "df3"
   ]
  },
  {
   "cell_type": "code",
   "execution_count": null,
   "metadata": {},
   "outputs": [],
   "source": [
    "df3legal = df3[df3[\"Legal Marijuana Sales(2018)\"] != 0]\n",
    "df3legal = df3legal[df3legal[\"Legal Marijuana Sales(2018)\"] !=9629013]\n",
    "df3legal"
   ]
  },
  {
   "cell_type": "code",
   "execution_count": null,
   "metadata": {},
   "outputs": [],
   "source": [
    "df3legal[['Legal Marijuana Sales(2017)','Legal Marijuana Sales(2018)']].sort_values(by='Legal Marijuana Sales(2018)',ascending=False).tail(10).plot(kind='bar', stacked=False, title=\"Bottom 10 Marijuana Revenue States\")"
   ]
  },
  {
   "cell_type": "code",
   "execution_count": null,
   "metadata": {},
   "outputs": [],
   "source": [
    "df3legal[['Legal Marijuana Sales(2017)','Legal Marijuana Sales(2018)']].sort_values(by='Legal Marijuana Sales(2017)',ascending=False).head(10).plot(kind='bar', stacked=False, title=\"Top 10 Marijuana Revenue States\")"
   ]
  }
 ],
 "metadata": {
  "kernelspec": {
   "display_name": "Python 3",
   "language": "python",
   "name": "python3"
  },
  "language_info": {
   "codemirror_mode": {
    "name": "ipython",
    "version": 3
   },
   "file_extension": ".py",
   "mimetype": "text/x-python",
   "name": "python",
   "nbconvert_exporter": "python",
   "pygments_lexer": "ipython3",
   "version": "3.6.5"
  }
 },
 "nbformat": 4,
 "nbformat_minor": 2
}
